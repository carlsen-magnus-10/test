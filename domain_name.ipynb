{
  "metadata": {
    "kernelspec": {
      "name": "python",
      "display_name": "Python (Pyodide)",
      "language": "python"
    },
    "language_info": {
      "codemirror_mode": {
        "name": "python",
        "version": 3
      },
      "file_extension": ".py",
      "mimetype": "text/x-python",
      "name": "python",
      "nbconvert_exporter": "python",
      "pygments_lexer": "ipython3",
      "version": "3.8"
    }
  },
  "nbformat_minor": 5,
  "nbformat": 4,
  "cells": [
    {
      "cell_type": "markdown",
      "source": "",
      "metadata": {},
      "id": "a35eeb9f-df70-4ab1-a243-2d2025888eb0"
    },
    {
      "cell_type": "code",
      "source": "def get_domain_name(url):\n    # Remove https:// or http:// from the beginning of the URL\n    url = url.replace(\"https://\", \"\").replace(\"http://\", \"\")\n\n    # Remove www. from the beginning of the URL if it is present\n    if url.startswith(\"www.\"):\n        url = url[4:]\n\n    # Extract the domain name by getting all characters before the first slash\n    domain_name = url.split(\"/\")[0]\n\n    return domain_name\n",
      "metadata": {
        "trusted": true
      },
      "execution_count": 2,
      "outputs": [],
      "id": "fe55883a-6887-43dd-9498-5333a51799e2"
    },
    {
      "cell_type": "code",
      "source": "print(get_domain_name(\"https://www.abc.com/random.html\")) ",
      "metadata": {
        "trusted": true
      },
      "execution_count": 3,
      "outputs": [
        {
          "name": "stdout",
          "text": "abc.com\n",
          "output_type": "stream"
        }
      ],
      "id": "07649b39-7a3d-4202-9ff9-c19b0f11f4c2"
    },
    {
      "cell_type": "code",
      "source": "print(get_domain_name(\"http://www.abc.com/random.html\")) ",
      "metadata": {
        "trusted": true
      },
      "execution_count": 4,
      "outputs": [
        {
          "name": "stdout",
          "text": "abc.com\n",
          "output_type": "stream"
        }
      ],
      "id": "aab9db54-fc34-4ac8-abf2-8394bc9de78e"
    },
    {
      "cell_type": "code",
      "source": "print(get_domain_name(\"http://www.abc.com/hello/random.html\"))",
      "metadata": {
        "trusted": true
      },
      "execution_count": 5,
      "outputs": [
        {
          "name": "stdout",
          "text": "abc.com\n",
          "output_type": "stream"
        }
      ],
      "id": "d102f047-e6de-40d8-8392-3bef024193d0"
    },
    {
      "cell_type": "code",
      "source": "print(get_domain_name(\"www.abc.com\"))",
      "metadata": {
        "trusted": true
      },
      "execution_count": 6,
      "outputs": [
        {
          "name": "stdout",
          "text": "abc.com\n",
          "output_type": "stream"
        }
      ],
      "id": "4fcc50ec-f035-4343-a81a-2b48e9711558"
    },
    {
      "cell_type": "code",
      "source": "print(get_domain_name(\"http://abc.com\"))",
      "metadata": {
        "trusted": true
      },
      "execution_count": 7,
      "outputs": [
        {
          "name": "stdout",
          "text": "abc.com\n",
          "output_type": "stream"
        }
      ],
      "id": "a3be755b-ef6d-495c-bfba-7866e65058ff"
    },
    {
      "cell_type": "code",
      "source": "print(get_domain_name(\"https://abc.com\"))",
      "metadata": {
        "trusted": true
      },
      "execution_count": 8,
      "outputs": [
        {
          "name": "stdout",
          "text": "abc.com\n",
          "output_type": "stream"
        }
      ],
      "id": "0613c8a7-530d-424a-b009-a00e2d8fc20f"
    },
    {
      "cell_type": "code",
      "source": "",
      "metadata": {},
      "execution_count": null,
      "outputs": [],
      "id": "f235e510-517d-4d31-8f15-3f9b741aa487"
    }
  ]
}